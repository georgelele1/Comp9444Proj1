{
 "cells": [
  {
   "cell_type": "markdown",
   "id": "efacc8a5-88fe-4945-87f3-a14b198ec6b9",
   "metadata": {},
   "source": [
    "Introduction, Motivation and/or Problem Statement (1 mark): TODO:\n",
    "Clearly define the problem statement\n",
    "or purpose of the project. "
   ]
  },
  {
   "cell_type": "markdown",
   "id": "a4855843-8d73-43ab-a02c-5351b6cf09c0",
   "metadata": {},
   "source": [
    "Data Sources or RL Tasks (1 mark): Data sources or reinforcement learning tasks are clearly\n",
    "documented and described. "
   ]
  },
  {
   "cell_type": "markdown",
   "id": "f0ca965b-89c9-4fae-b363-dcb5e063896c",
   "metadata": {},
   "source": [
    "Exploratory Analysis of Data or RL Tasks (3 marks): Provide details about the properties, number\n",
    "of classes, pre-processing, challenging aspects, etc. of the data (or the RL task)."
   ]
  },
  {
   "cell_type": "markdown",
   "id": "bc851076-7883-4b6b-ba2b-783b8ac902c6",
   "metadata": {},
   "source": [
    "Models and/or Methods (3 marks): Model(s) and/or Method(s) are judiciously chosen and\n",
    "appropriately applied. If building on previous work, identify the source and clearly delineate which parts\n",
    "are your own work."
   ]
  },
  {
   "cell_type": "code",
   "execution_count": null,
   "id": "5822355d-7c29-4f30-b5dc-6476059bdd9a",
   "metadata": {},
   "outputs": [],
   "source": []
  },
  {
   "cell_type": "markdown",
   "id": "f2905c45-caa2-48f0-aea1-60909cf2dde8",
   "metadata": {},
   "source": [
    "Results (3 marks): Results are clearly shown, discussed, evaluated using appropriate metrics. Good\n",
    "use of graphs or other visualizations, where possible. Comparison with previous methods/State-of-theart, where appropriate."
   ]
  },
  {
   "cell_type": "code",
   "execution_count": null,
   "id": "46ffb5c7-a173-4153-bed6-56787aa0685a",
   "metadata": {},
   "outputs": [],
   "source": []
  },
  {
   "cell_type": "markdown",
   "id": "89eafd59-037b-46fa-a73d-3d1467292992",
   "metadata": {},
   "source": [
    "Discussion (2 marks): Discuss the results and analysis, provide some insight about system\n",
    "performance, including strengths, weaknesses, limitations and possible future work. "
   ]
  }
 ],
 "metadata": {
  "kernelspec": {
   "display_name": "Python [conda env:base] *",
   "language": "python",
   "name": "conda-base-py"
  },
  "language_info": {
   "codemirror_mode": {
    "name": "ipython",
    "version": 3
   },
   "file_extension": ".py",
   "mimetype": "text/x-python",
   "name": "python",
   "nbconvert_exporter": "python",
   "pygments_lexer": "ipython3",
   "version": "3.12.7"
  }
 },
 "nbformat": 4,
 "nbformat_minor": 5
}
