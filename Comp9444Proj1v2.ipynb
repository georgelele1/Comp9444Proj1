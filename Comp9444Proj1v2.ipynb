{
 "cells": [
  {
   "cell_type": "code",
   "execution_count": 140,
   "id": "initial_id",
   "metadata": {
    "ExecuteTime": {
     "end_time": "2025-08-03T12:51:36.328151Z",
     "start_time": "2025-08-03T12:51:36.299102Z"
    },
    "collapsed": true,
    "jupyter": {
     "outputs_hidden": true
    }
   },
   "outputs": [
    {
     "name": "stdout",
     "output_type": "stream",
     "text": [
      "C:\\Users\\Georgelele\\PycharmProjects\\Comp9444Proj1\n"
     ]
    }
   ],
   "source": [
    "import os\n",
    "os.environ[\"KMP_DUPLICATE_LIB_OK\"] = \"TRUE\"\n",
    "print(os.getcwd())\n",
    "import torch\n",
    "import torch.nn as nn\n",
    "import torch.optim as optim\n",
    "from torch.utils.data import DataLoader\n",
    "from torchvision import datasets, transforms\n",
    "from torchvision.models.detection import MaskRCNN\n",
    "from torchvision.models.detection.backbone_utils import resnet_fpn_backbone\n",
    "import matplotlib\n",
    "%matplotlib inline\n",
    "import matplotlib.pyplot as plt\n",
    "import seaborn as sns\n",
    "import numpy as np\n",
    "import argparse\n",
    "from sklearn.metrics import confusion_matrix, precision_recall_fscore_support\n",
    "import torch.nn.functional as F\n",
    "from tqdm import tqdm\n",
    "import torchvision.models as models"
   ]
  },
  {
   "cell_type": "markdown",
   "id": "8d6eb0f1460208d7",
   "metadata": {},
   "source": [
    "loss function"
   ]
  },
  {
   "cell_type": "code",
   "execution_count": 141,
   "id": "98d8caebef4e8c94",
   "metadata": {
    "ExecuteTime": {
     "end_time": "2025-08-03T12:51:36.359218Z",
     "start_time": "2025-08-03T12:51:36.343190Z"
    }
   },
   "outputs": [],
   "source": [
    "# -----------------------------\n",
    "# Loss functions\n",
    "# -----------------------------\n",
    "def dice_loss(pred, target, epsilon=1e-6):\n",
    "    pred = torch.softmax(pred, dim=1)\n",
    "    target = F.one_hot(target, num_classes=pred.size(1)).permute(0, 3, 1, 2).float() \\\n",
    "        if target.ndim == 3 else F.one_hot(target, num_classes=pred.size(1)).float()\n",
    "    intersection = (pred * target).sum()\n",
    "    union = pred.sum() + target.sum()\n",
    "    return 1 - (2. * intersection + epsilon) / (union + epsilon)\n",
    "\n",
    "def focal_loss(pred, target, alpha=0.75, gamma=2):\n",
    "    ce_loss = F.cross_entropy(pred, target, reduction='none')\n",
    "    pt = torch.exp(-ce_loss)\n",
    "    focal = alpha * (1 - pt) ** gamma * ce_loss\n",
    "    return focal.mean()\n",
    "\n",
    "def tversky_loss(pred, target, alpha=0.7, beta=0.3, epsilon=1e-6):\n",
    "    pred = torch.softmax(pred, dim=1)\n",
    "    target = F.one_hot(target, num_classes=pred.size(1)).float()\n",
    "    tp = (pred * target).sum()\n",
    "    fp = ((1 - target) * pred).sum()\n",
    "    fn = (target * (1 - pred)).sum()\n",
    "    return 1 - (tp + epsilon) / (tp + alpha * fp + beta * fn + epsilon)\n",
    "\n",
    "def combo_loss(pred, target):\n",
    "    return 0.5 * focal_loss(pred, target) + 0.5 * dice_loss(pred, target)\n",
    "\n",
    "def focal_tversky_combo(pred, target):\n",
    "    return 0.5 * focal_loss(pred, target) + 0.5 * tversky_loss(pred, target)\n",
    "\n",
    "def select_loss(loss_type):\n",
    "    if loss_type == \"dice\":\n",
    "        return dice_loss\n",
    "    elif loss_type == \"focal\":\n",
    "        return focal_loss\n",
    "    elif loss_type == \"tversky\":\n",
    "        return tversky_loss\n",
    "    elif loss_type == \"focal+dice\":\n",
    "        return combo_loss\n",
    "    elif loss_type == \"focal+tversky\":\n",
    "        return focal_tversky_combo\n",
    "    else:\n",
    "        raise ValueError(f\"Unsupported loss function: {loss_type}\")\n"
   ]
  },
  {
   "cell_type": "markdown",
   "id": "6ccaca7aa18700fb",
   "metadata": {},
   "source": [
    "resnet50"
   ]
  },
  {
   "cell_type": "code",
   "execution_count": 142,
   "id": "dac72bf26bee2740",
   "metadata": {
    "ExecuteTime": {
     "end_time": "2025-08-03T12:51:36.374780Z",
     "start_time": "2025-08-03T12:51:36.360720Z"
    }
   },
   "outputs": [],
   "source": [
    "# -----------------------------\n",
    "# resnet50\n",
    "# -----------------------------\n",
    "\n",
    "\n",
    "def get_resnet_classifier(num_classes=5, pretrained=True):\n",
    "    model = models.resnet50(weights=\"IMAGENET1K_V1\" if pretrained else None)\n",
    "    in_features = model.fc.in_features\n",
    "    model.fc = nn.Linear(in_features, num_classes)\n",
    "    return model"
   ]
  },
  {
   "cell_type": "markdown",
   "id": "e10b4e0b4811a95a",
   "metadata": {},
   "source": [
    "Metrics Plotting"
   ]
  },
  {
   "cell_type": "code",
   "execution_count": 143,
   "id": "1a6060dbf4886029",
   "metadata": {
    "ExecuteTime": {
     "end_time": "2025-08-03T12:51:36.390305Z",
     "start_time": "2025-08-03T12:51:36.375781Z"
    }
   },
   "outputs": [],
   "source": [
    "# -----------------------------\n",
    "# Metrics Plotting\n",
    "# -----------------------------\n",
    "def plot_metrics(history, save_dir, show_inline=True):\n",
    "    epochs = range(1, len(history[\"acc\"]) + 1)\n",
    "    plt.figure()\n",
    "    plt.plot(epochs, history[\"acc\"], label=\"Accuracy\")\n",
    "    plt.plot(epochs, history[\"precision\"], label=\"Precision\")\n",
    "    plt.plot(epochs, history[\"recall\"], label=\"Recall\")\n",
    "    plt.plot(epochs, history[\"f1\"], label=\"F1-score\")\n",
    "    plt.xlabel(\"Epoch\")\n",
    "    plt.ylabel(\"Score\")\n",
    "    plt.title(\"Validation Metrics Over Epochs\")\n",
    "    plt.legend()\n",
    "    plt.grid(True)\n",
    "    if save_dir:\n",
    "        plt.savefig(os.path.join(save_dir, \"metrics_curve.png\"))\n",
    "    if show_inline:\n",
    "        plt.show()\n",
    "    plt.close()\n",
    "\n",
    "\n",
    "def plot_per_class_metrics(history, class_names, save_dir, show_inline=True):\n",
    "    epochs = range(1, len(history[\"acc\"]) + 1)\n",
    "\n",
    "    for metric in [\"precision\", \"recall\", \"f1\"]:\n",
    "        plt.figure(figsize=(8, 6))\n",
    "        for i, cls_name in enumerate(class_names):\n",
    "            plt.plot(epochs, history[\"per_class\"][i][metric], label=cls_name)\n",
    "        plt.xlabel(\"Epoch\")\n",
    "        plt.ylabel(metric.capitalize())\n",
    "        plt.title(f\"Per-Class {metric.capitalize()} Over Epochs\")\n",
    "        plt.legend()\n",
    "        plt.grid(True)\n",
    "        if save_dir:\n",
    "            plt.savefig(os.path.join(save_dir, f\"per_class_{metric}.png\"))\n",
    "        if show_inline:\n",
    "            plt.show()\n",
    "        plt.close()\n",
    "\n",
    "\n",
    "def plot_confusion(y_true, y_pred, class_names, save_dir):\n",
    "    cm = confusion_matrix(y_true, y_pred, labels=list(range(len(class_names))))\n",
    "    plt.figure(figsize=(7, 6))\n",
    "    sns.heatmap(cm, annot=True, fmt=\"d\", cmap=\"Blues\",\n",
    "                xticklabels=class_names, yticklabels=class_names)\n",
    "    plt.xlabel(\"Predicted\")\n",
    "    plt.ylabel(\"True\")\n",
    "    plt.title(\"Confusion Matrix\")\n",
    "    plt.savefig(os.path.join(save_dir, \"confusion_matrix.png\"))\n",
    "    plt.close()"
   ]
  },
  {
   "cell_type": "markdown",
   "id": "2b29e11503b420c3",
   "metadata": {},
   "source": [
    "Training Loop"
   ]
  },
  {
   "cell_type": "code",
   "execution_count": 144,
   "id": "c8feb698250f42bb",
   "metadata": {
    "ExecuteTime": {
     "end_time": "2025-08-03T12:51:36.405890Z",
     "start_time": "2025-08-03T12:51:36.393342Z"
    }
   },
   "outputs": [],
   "source": [
    "# -----------------------------\n",
    "# Training Loop with Args\n",
    "# -----------------------------\n",
    "def train_model(model, train_loader, val_loader, device, args, class_names):\n",
    "    model = model.to(device)\n",
    "\n",
    "    # ✅ Select optimizer based on args\n",
    "    if args.optimizer == \"adam\":\n",
    "        optimizer = optim.Adam(model.parameters(), lr=args.lr)\n",
    "    elif args.optimizer == \"adamw\":\n",
    "        optimizer = optim.AdamW(model.parameters(), lr=args.lr, weight_decay=1e-4)\n",
    "    elif args.optimizer == \"sgd\":\n",
    "        optimizer = optim.SGD(model.parameters(), lr=args.lr, momentum=0.9, weight_decay=1e-4)\n",
    "    else:\n",
    "        raise ValueError(f\"Unsupported optimizer: {args.optimizer}\")\n",
    "\n",
    "    # ✅ Select loss from args\n",
    "    loss_fn = select_loss(args.loss)\n",
    "\n",
    "    history = {\n",
    "        \"acc\": [],\n",
    "        \"precision\": [],\n",
    "        \"recall\": [],\n",
    "        \"f1\": [],\n",
    "        \"per_class\": {i: {\"precision\": [], \"recall\": [], \"f1\": []} for i in range(len(class_names))}\n",
    "    }\n",
    "\n",
    "    best_acc = 0\n",
    "\n",
    "    for epoch in range(args.epochs):\n",
    "        # -----------------------------\n",
    "        # Training\n",
    "        # -----------------------------\n",
    "        model.train()\n",
    "        total_loss, correct, total = 0, 0, 0\n",
    "        pbar = tqdm(train_loader, desc=f\"Epoch {epoch + 1}/{args.epochs} [Train]\", unit=\"batch\")\n",
    "        for imgs, labels in pbar:\n",
    "            imgs, labels = imgs.to(device), labels.to(device)\n",
    "            optimizer.zero_grad()\n",
    "            outputs = model(imgs)\n",
    "            loss = loss_fn(outputs, labels)\n",
    "            loss.backward()\n",
    "            optimizer.step()\n",
    "\n",
    "            total_loss += loss.item() * labels.size(0)\n",
    "            preds = outputs.argmax(1)\n",
    "            correct += (preds == labels).sum().item()\n",
    "            total += labels.size(0)\n",
    "\n",
    "            pbar.set_postfix({\"loss\": f\"{loss.item():.4f}\",\n",
    "                              \"acc\": f\"{(correct / total):.4f}\"})\n",
    "\n",
    "        train_acc = correct / total\n",
    "        print(f\"[Train] Epoch {epoch+1}: Loss={total_loss/total:.4f}, Acc={train_acc:.4f}\")\n",
    "\n",
    "        # -----------------------------\n",
    "        # Validation\n",
    "        # -----------------------------\n",
    "        model.eval()\n",
    "        y_true, y_pred = [], []\n",
    "        val_loss, val_correct, val_total = 0, 0, 0\n",
    "        pbar_val = tqdm(val_loader, desc=f\"Epoch {epoch+1}/{args.epochs} [Val]\", unit=\"batch\")\n",
    "        with torch.no_grad():\n",
    "            for imgs, labels in pbar_val:\n",
    "                imgs, labels = imgs.to(device), labels.to(device)\n",
    "                outputs = model(imgs)\n",
    "                loss = loss_fn(outputs, labels)\n",
    "\n",
    "                preds = outputs.argmax(1)\n",
    "                y_true.extend(labels.cpu().numpy())\n",
    "                y_pred.extend(preds.cpu().numpy())\n",
    "\n",
    "                val_loss += loss.item() * labels.size(0)\n",
    "                val_correct += (preds == labels).sum().item()\n",
    "                val_total += labels.size(0)\n",
    "\n",
    "                pbar_val.set_postfix({\"loss\": f\"{loss.item():.4f}\",\n",
    "                                      \"acc\": f\"{(val_correct/val_total):.4f}\"})\n",
    "\n",
    "        # -----------------------------\n",
    "        # Metrics Calculation\n",
    "        # -----------------------------\n",
    "        precision_macro, recall_macro, f1_macro, _ = precision_recall_fscore_support(\n",
    "            y_true, y_pred, labels=list(range(len(class_names))), average=\"macro\", zero_division=0\n",
    "        )\n",
    "        acc = np.mean(np.array(y_true) == np.array(y_pred))\n",
    "        history[\"acc\"].append(acc)\n",
    "        history[\"precision\"].append(precision_macro)\n",
    "        history[\"recall\"].append(recall_macro)\n",
    "        history[\"f1\"].append(f1_macro)\n",
    "\n",
    "        # Per-class metrics\n",
    "        precision_cls, recall_cls, f1_cls, _ = precision_recall_fscore_support(\n",
    "            y_true, y_pred, labels=list(range(len(class_names))), zero_division=0\n",
    "        )\n",
    "        for i, cls_name in enumerate(class_names):\n",
    "            history[\"per_class\"][i][\"precision\"].append(precision_cls[i])\n",
    "            history[\"per_class\"][i][\"recall\"].append(recall_cls[i])\n",
    "            history[\"per_class\"][i][\"f1\"].append(f1_cls[i])\n",
    "\n",
    "        print(\n",
    "            f\"[Val] Epoch {epoch + 1}: Acc={acc:.4f}, Precision={precision_macro:.4f}, Recall={recall_macro:.4f}, F1={f1_macro:.4f}\")\n",
    "\n",
    "        # Save best model & confusion matrix\n",
    "        if acc > best_acc:\n",
    "            best_acc = acc\n",
    "            os.makedirs(args.save_dir, exist_ok=True)\n",
    "            torch.save(model.state_dict(), os.path.join(args.save_dir, \"best_model.pth\"))\n",
    "            plot_confusion(\"Val\", y_true, y_pred, class_names, args.save_dir)\n",
    "\n",
    "            print(f\"✅ Best model saved at epoch {epoch+1} with Acc={acc:.4f}\")\n",
    "\n",
    "    # -----------------------------\n",
    "    # Save plots after training\n",
    "    # -----------------------------\n",
    "    plot_metrics(history, args.save_dir)\n",
    "    plot_per_class_metrics(history, class_names, args.save_dir)\n"
   ]
  },
  {
   "cell_type": "markdown",
   "id": "3d32b1eb3d8c18ef",
   "metadata": {},
   "source": [
    "Args"
   ]
  },
  {
   "cell_type": "code",
   "execution_count": 145,
   "id": "9f5561b5a042bb39",
   "metadata": {
    "ExecuteTime": {
     "end_time": "2025-08-03T12:51:36.421419Z",
     "start_time": "2025-08-03T12:51:36.407895Z"
    }
   },
   "outputs": [],
   "source": [
    "import argparse, sys, torch\n",
    "\n",
    "def get_args():\n",
    "    parser = argparse.ArgumentParser(description=\"Train ResNet Classifier on Custom Dataset\")\n",
    "    parser.add_argument(\"--data_dir\", type=str, required=True, help=\"Path to dataset\")\n",
    "    parser.add_argument(\"--epochs\", type=int, default=50, help=\"Number of training epochs\")\n",
    "    parser.add_argument(\"--batch_size\", type=int, default=16, help=\"Batch size for training\")\n",
    "    parser.add_argument(\"--lr\", type=float, default=1e-4, help=\"Learning rate\")\n",
    "    parser.add_argument(\"--optimizer\", type=str, default=\"adamw\", \n",
    "                        choices=[\"adam\", \"adamw\", \"sgd\"], help=\"Optimizer type\")\n",
    "    parser.add_argument(\"--loss\", type=str, default=\"focal+tversky\",\n",
    "                        choices=[\"dice\", \"focal\", \"tversky\", \"focal+dice\", \"focal+tversky\"],\n",
    "                        help=\"Loss function\")\n",
    "    parser.add_argument(\"--img_size\", type=int, default=224, help=\"Input image size (square)\")\n",
    "    parser.add_argument(\"--num_workers\", type=int, default=4, help=\"Number of DataLoader workers\")\n",
    "    parser.add_argument(\"--save_dir\", type=str, default=\"results\", help=\"Directory to save outputs\")\n",
    "    parser.add_argument(\"--device\", type=str, default=\"cuda\" if torch.cuda.is_available() else \"cpu\",\n",
    "                        help=\"Training device\")\n",
    "\n",
    "    args = parser.parse_args(sys.argv[1:])  # works in Jupyter after cleaning sys.argv in launcher\n",
    "    return args\n"
   ]
  },
  {
   "cell_type": "markdown",
   "id": "171fa4a384f3cc19",
   "metadata": {},
   "source": [
    "Plot"
   ]
  },
  {
   "cell_type": "code",
   "execution_count": 146,
   "id": "27a867ba00b50133",
   "metadata": {
    "ExecuteTime": {
     "end_time": "2025-08-03T12:51:36.436969Z",
     "start_time": "2025-08-03T12:51:36.422423Z"
    }
   },
   "outputs": [],
   "source": [
    "# -----------------------------\n",
    "# Plotting\n",
    "# -----------------------------\n",
    "def plot_global(history, save_dir):\n",
    "    epochs = range(1, len(history['train_loss'])+1)\n",
    "    plt.figure()\n",
    "    plt.plot(epochs, history['train_loss'], label='Train Loss')\n",
    "    plt.plot(epochs, history['val_loss'],   label='Val Loss')\n",
    "    plt.xlabel('Epoch'); plt.ylabel('Loss'); plt.title('Loss Curve'); plt.legend(); plt.grid(True)\n",
    "    plt.savefig(os.path.join(save_dir, 'loss_curve.png'))\n",
    "    plt.close()\n",
    "\n",
    "    plt.figure()\n",
    "    plt.plot(epochs, history['train_acc'], label='Train Acc')\n",
    "    plt.plot(epochs, history['val_acc'],   label='Val Acc')\n",
    "    plt.xlabel('Epoch'); plt.ylabel('Accuracy'); plt.title('Accuracy Curve'); plt.legend(); plt.grid(True)\n",
    "    plt.savefig(os.path.join(save_dir, 'accuracy_curve.png'))\n",
    "    plt.close()\n",
    "\n",
    "\n",
    "def plot_per_class_metrics(history, class_names, save_dir):\n",
    "    epochs = range(1, len(history[\"acc\"]) + 1)\n",
    "\n",
    "    for metric in [\"precision\", \"recall\", \"f1\"]:\n",
    "        for i, cls_name in enumerate(class_names):\n",
    "            plt.figure(figsize=(7, 5))\n",
    "            plt.plot(epochs, history[\"per_class\"][i][metric], marker='o')\n",
    "            plt.xlabel(\"Epoch\")\n",
    "            plt.ylabel(metric.capitalize())\n",
    "            plt.title(f\"{cls_name} - {metric.capitalize()} Over Epochs\")\n",
    "            plt.grid(True)\n",
    "            plt.savefig(os.path.join(save_dir, f\"{cls_name}_{metric}.png\"))\n",
    "            plt.close()\n",
    "\n",
    "\n",
    "\n",
    "def plot_confusion(name, y_true, y_pred, classes, save_dir=\"results\"):\n",
    "    cm = confusion_matrix(y_true, y_pred)\n",
    "    os.makedirs(save_dir, exist_ok=True)  # make sure dir exists\n",
    "    plt.figure(figsize=(len(classes)*1.2, len(classes)*1.2))\n",
    "    sns.heatmap(cm, annot=True, fmt='d', xticklabels=classes, yticklabels=classes)\n",
    "    plt.xlabel('Predicted'); plt.ylabel('True'); plt.title(f'Confusion Matrix ({name})')\n",
    "    plt.savefig(os.path.join(save_dir, f'confusion_{name}.png'))\n",
    "    plt.close()\n"
   ]
  },
  {
   "cell_type": "code",
   "execution_count": 147,
   "id": "d481cc50e5263c6a",
   "metadata": {
    "ExecuteTime": {
     "end_time": "2025-08-03T12:51:36.452495Z",
     "start_time": "2025-08-03T12:51:36.438968Z"
    }
   },
   "outputs": [],
   "source": [
    "def main():\n",
    "    args = get_args()\n",
    "\n",
    "    run_name = f\"epochs{args.epochs}_bs{args.batch_size}_lr{args.lr}_loss{args.loss}_img{args.img_size}\"\n",
    "    run_name = run_name.replace(\"+\", \"_\")  # ✅ sanitize for Windows paths\n",
    "    args.save_dir = os.path.join(args.save_dir, run_name)\n",
    "    os.makedirs(args.save_dir, exist_ok=True)\n",
    "\n",
    "    if not os.path.isdir(args.data_dir):\n",
    "        raise RuntimeError(f\"❌ Dataset path not found: {args.data_dir}\")\n",
    "    print(\"✅ Using dataset:\", args.data_dir)\n",
    "\n",
    "    transform = transforms.Compose([\n",
    "        transforms.Resize((args.img_size, args.img_size)),\n",
    "        transforms.ToTensor(),\n",
    "    ])\n",
    "\n",
    "    train_data = datasets.ImageFolder(os.path.join(args.data_dir, \"train\"), transform=transform)\n",
    "    val_data   = datasets.ImageFolder(os.path.join(args.data_dir, \"val\"), transform=transform)\n",
    "\n",
    "    train_loader = DataLoader(train_data,\n",
    "                              batch_size=args.batch_size,\n",
    "                              shuffle=True,\n",
    "                              num_workers=args.num_workers,\n",
    "                              pin_memory=True)\n",
    "\n",
    "    val_loader = DataLoader(val_data,\n",
    "                            batch_size=args.batch_size,\n",
    "                            shuffle=False,\n",
    "                            num_workers=args.num_workers,\n",
    "                            pin_memory=True)\n",
    "\n",
    "    class_names = train_data.classes\n",
    "    print(\"Classes:\", class_names)\n",
    "\n",
    "    device = torch.device(args.device)\n",
    "    model = get_resnet_classifier(num_classes=len(class_names))\n",
    "\n",
    "    print(f\"Using loss function: {args.loss}\")\n",
    "    loss_fn = select_loss(args.loss)\n",
    "\n",
    "    train_model(model, train_loader, val_loader, device, args, class_names)\n"
   ]
  },
  {
   "cell_type": "code",
   "execution_count": 148,
   "id": "cee712abfee96f76",
   "metadata": {
    "ExecuteTime": {
     "end_time": "2025-08-03T13:07:21.142689Z",
     "start_time": "2025-08-03T12:51:36.455110Z"
    }
   },
   "outputs": [
    {
     "name": "stdout",
     "output_type": "stream",
     "text": [
      "Launching with: ['--data_dir', 'C:\\\\Users\\\\Georgelele\\\\PycharmProjects\\\\Comp9444Proj1\\\\dataset', '--epochs', '10', '--batch_size', '8', '--lr', '5e-4', '--img_size', '512', '--optimizer', 'adamw', '--num_workers', '4', '--save_dir', 'runs', '--loss', 'focal+dice']\n",
      "✅ Using dataset: C:\\Users\\Georgelele\\PycharmProjects\\Comp9444Proj1\\dataset\n",
      "Classes: ['Adenocarcinoma', 'High-grade IN', 'Low-grade IN', 'Normal', 'Polyp']\n",
      "Using loss function: focal+dice\n"
     ]
    },
    {
     "name": "stderr",
     "output_type": "stream",
     "text": [
      "Epoch 1/10 [Train]: 100%|██████████| 553/553 [01:10<00:00,  7.86batch/s, loss=0.1301, acc=0.6907]\n"
     ]
    },
    {
     "name": "stdout",
     "output_type": "stream",
     "text": [
      "[Train] Epoch 1: Loss=0.4040, Acc=0.6907\n"
     ]
    },
    {
     "name": "stderr",
     "output_type": "stream",
     "text": [
      "Epoch 1/10 [Val]: 100%|██████████| 69/69 [00:17<00:00,  3.88batch/s, loss=0.1705, acc=0.7327]\n"
     ]
    },
    {
     "name": "stdout",
     "output_type": "stream",
     "text": [
      "[Val] Epoch 1: Acc=0.7327, Precision=0.6359, Recall=0.5036, F1=0.4566\n",
      "✅ Best model saved at epoch 1 with Acc=0.7327\n"
     ]
    },
    {
     "name": "stderr",
     "output_type": "stream",
     "text": [
      "Epoch 2/10 [Train]: 100%|██████████| 553/553 [01:06<00:00,  8.29batch/s, loss=0.2107, acc=0.7825]\n"
     ]
    },
    {
     "name": "stdout",
     "output_type": "stream",
     "text": [
      "[Train] Epoch 2: Loss=0.2927, Acc=0.7825\n"
     ]
    },
    {
     "name": "stderr",
     "output_type": "stream",
     "text": [
      "Epoch 2/10 [Val]: 100%|██████████| 69/69 [00:19<00:00,  3.61batch/s, loss=0.1759, acc=0.8255]\n"
     ]
    },
    {
     "name": "stdout",
     "output_type": "stream",
     "text": [
      "[Val] Epoch 2: Acc=0.8255, Precision=0.8028, Recall=0.6074, F1=0.6248\n",
      "✅ Best model saved at epoch 2 with Acc=0.8255\n"
     ]
    },
    {
     "name": "stderr",
     "output_type": "stream",
     "text": [
      "Epoch 3/10 [Train]: 100%|██████████| 553/553 [01:14<00:00,  7.42batch/s, loss=0.1066, acc=0.8069]\n"
     ]
    },
    {
     "name": "stdout",
     "output_type": "stream",
     "text": [
      "[Train] Epoch 3: Loss=0.2535, Acc=0.8069\n"
     ]
    },
    {
     "name": "stderr",
     "output_type": "stream",
     "text": [
      "Epoch 3/10 [Val]: 100%|██████████| 69/69 [00:16<00:00,  4.10batch/s, loss=0.1398, acc=0.7800]\n"
     ]
    },
    {
     "name": "stdout",
     "output_type": "stream",
     "text": [
      "[Val] Epoch 3: Acc=0.7800, Precision=0.7296, Recall=0.5939, F1=0.5915\n"
     ]
    },
    {
     "name": "stderr",
     "output_type": "stream",
     "text": [
      "Epoch 4/10 [Train]: 100%|██████████| 553/553 [01:08<00:00,  8.08batch/s, loss=0.2457, acc=0.8284]\n"
     ]
    },
    {
     "name": "stdout",
     "output_type": "stream",
     "text": [
      "[Train] Epoch 4: Loss=0.2208, Acc=0.8284\n"
     ]
    },
    {
     "name": "stderr",
     "output_type": "stream",
     "text": [
      "Epoch 4/10 [Val]: 100%|██████████| 69/69 [00:19<00:00,  3.62batch/s, loss=0.2673, acc=0.8436]\n"
     ]
    },
    {
     "name": "stdout",
     "output_type": "stream",
     "text": [
      "[Val] Epoch 4: Acc=0.8436, Precision=0.7760, Recall=0.6379, F1=0.6745\n",
      "✅ Best model saved at epoch 4 with Acc=0.8436\n"
     ]
    },
    {
     "name": "stderr",
     "output_type": "stream",
     "text": [
      "Epoch 5/10 [Train]: 100%|██████████| 553/553 [01:17<00:00,  7.13batch/s, loss=0.0772, acc=0.8424]\n"
     ]
    },
    {
     "name": "stdout",
     "output_type": "stream",
     "text": [
      "[Train] Epoch 5: Loss=0.2068, Acc=0.8424\n"
     ]
    },
    {
     "name": "stderr",
     "output_type": "stream",
     "text": [
      "Epoch 5/10 [Val]: 100%|██████████| 69/69 [00:18<00:00,  3.67batch/s, loss=0.6175, acc=0.7818]\n"
     ]
    },
    {
     "name": "stdout",
     "output_type": "stream",
     "text": [
      "[Val] Epoch 5: Acc=0.7818, Precision=0.6740, Recall=0.6554, F1=0.6058\n"
     ]
    },
    {
     "name": "stderr",
     "output_type": "stream",
     "text": [
      "Epoch 6/10 [Train]: 100%|██████████| 553/553 [01:16<00:00,  7.24batch/s, loss=0.3124, acc=0.8610]\n"
     ]
    },
    {
     "name": "stdout",
     "output_type": "stream",
     "text": [
      "[Train] Epoch 6: Loss=0.1845, Acc=0.8610\n"
     ]
    },
    {
     "name": "stderr",
     "output_type": "stream",
     "text": [
      "Epoch 6/10 [Val]: 100%|██████████| 69/69 [00:18<00:00,  3.69batch/s, loss=0.1168, acc=0.8491]\n"
     ]
    },
    {
     "name": "stdout",
     "output_type": "stream",
     "text": [
      "[Val] Epoch 6: Acc=0.8491, Precision=0.8109, Recall=0.6139, F1=0.6383\n",
      "✅ Best model saved at epoch 6 with Acc=0.8491\n"
     ]
    },
    {
     "name": "stderr",
     "output_type": "stream",
     "text": [
      "Epoch 7/10 [Train]: 100%|██████████| 553/553 [01:16<00:00,  7.19batch/s, loss=0.1672, acc=0.8628]\n"
     ]
    },
    {
     "name": "stdout",
     "output_type": "stream",
     "text": [
      "[Train] Epoch 7: Loss=0.1817, Acc=0.8628\n"
     ]
    },
    {
     "name": "stderr",
     "output_type": "stream",
     "text": [
      "Epoch 7/10 [Val]: 100%|██████████| 69/69 [00:21<00:00,  3.26batch/s, loss=0.3037, acc=0.8309]\n"
     ]
    },
    {
     "name": "stdout",
     "output_type": "stream",
     "text": [
      "[Val] Epoch 7: Acc=0.8309, Precision=0.7220, Recall=0.7196, F1=0.6956\n"
     ]
    },
    {
     "name": "stderr",
     "output_type": "stream",
     "text": [
      "Epoch 8/10 [Train]: 100%|██████████| 553/553 [01:18<00:00,  7.06batch/s, loss=0.0640, acc=0.8849]\n"
     ]
    },
    {
     "name": "stdout",
     "output_type": "stream",
     "text": [
      "[Train] Epoch 8: Loss=0.1576, Acc=0.8849\n"
     ]
    },
    {
     "name": "stderr",
     "output_type": "stream",
     "text": [
      "Epoch 8/10 [Val]: 100%|██████████| 69/69 [00:21<00:00,  3.15batch/s, loss=0.3391, acc=0.8709]\n"
     ]
    },
    {
     "name": "stdout",
     "output_type": "stream",
     "text": [
      "[Val] Epoch 8: Acc=0.8709, Precision=0.7730, Recall=0.7767, F1=0.7386\n",
      "✅ Best model saved at epoch 8 with Acc=0.8709\n"
     ]
    },
    {
     "name": "stderr",
     "output_type": "stream",
     "text": [
      "Epoch 9/10 [Train]: 100%|██████████| 553/553 [01:19<00:00,  7.00batch/s, loss=0.0248, acc=0.8915]\n"
     ]
    },
    {
     "name": "stdout",
     "output_type": "stream",
     "text": [
      "[Train] Epoch 9: Loss=0.1401, Acc=0.8915\n"
     ]
    },
    {
     "name": "stderr",
     "output_type": "stream",
     "text": [
      "Epoch 9/10 [Val]: 100%|██████████| 69/69 [00:20<00:00,  3.30batch/s, loss=0.1231, acc=0.7782]\n"
     ]
    },
    {
     "name": "stdout",
     "output_type": "stream",
     "text": [
      "[Val] Epoch 9: Acc=0.7782, Precision=0.7304, Recall=0.6782, F1=0.6871\n"
     ]
    },
    {
     "name": "stderr",
     "output_type": "stream",
     "text": [
      "Epoch 10/10 [Train]: 100%|██████████| 553/553 [01:18<00:00,  7.08batch/s, loss=0.1161, acc=0.9005]\n"
     ]
    },
    {
     "name": "stdout",
     "output_type": "stream",
     "text": [
      "[Train] Epoch 10: Loss=0.1335, Acc=0.9005\n"
     ]
    },
    {
     "name": "stderr",
     "output_type": "stream",
     "text": [
      "Epoch 10/10 [Val]: 100%|██████████| 69/69 [00:20<00:00,  3.30batch/s, loss=0.1253, acc=0.8400]"
     ]
    },
    {
     "name": "stdout",
     "output_type": "stream",
     "text": [
      "[Val] Epoch 10: Acc=0.8400, Precision=0.7381, Recall=0.8199, F1=0.7623\n"
     ]
    },
    {
     "name": "stderr",
     "output_type": "stream",
     "text": [
      "\n"
     ]
    },
    {
     "data": {
      "image/png": "[encoded data removed]",
      "text/plain": [
       "<Figure size 640x480 with 1 Axes>"
      ]
     },
     "metadata": {},
     "output_type": "display_data"
    }
   ],
   "source": [
    "import sys, os\n",
    "\n",
    "# clear Jupyter's own args\n",
    "sys.argv = sys.argv[:1]\n",
    "\n",
    "dataset_path = os.path.abspath(os.path.join(os.getcwd(), \"dataset\"))\n",
    "if not os.path.isdir(dataset_path):\n",
    "    raise RuntimeError(f\"❌ Dataset folder not found at {dataset_path}\")\n",
    "\n",
    "sys.argv += [\n",
    "    \"--data_dir\", dataset_path,\n",
    "    \"--epochs\", \"10\",\n",
    "    \"--batch_size\", \"8\",\n",
    "    \"--lr\", \"5e-4\",\n",
    "    \"--img_size\", \"512\",\n",
    "    \"--optimizer\", \"adamw\",\n",
    "    \"--num_workers\", \"4\",\n",
    "    \"--save_dir\", \"runs\",\n",
    "    \"--loss\", \"focal+dice\",  # ✅ matches parser\n",
    "]\n",
    "\n",
    "print(\"Launching with:\", sys.argv[1:])\n",
    "main()\n"
   ]
  },
  {
   "cell_type": "code",
   "execution_count": null,
   "id": "5401c831-9e98-4144-8dea-0092bfe8a848",
   "metadata": {
    "ExecuteTime": {
     "end_time": "2025-08-03T13:07:21.157940Z",
     "start_time": "2025-08-03T13:07:21.144224Z"
    }
   },
   "outputs": [],
   "source": [
    "import sys, os\n",
    "\n",
    "# clear Jupyter's own args\n",
    "sys.argv = sys.argv[:1]\n",
    "\n",
    "dataset_path = os.path.abspath(os.path.join(os.getcwd(), \"dataset\"))\n",
    "if not os.path.isdir(dataset_path):\n",
    "    raise RuntimeError(f\"❌ Dataset folder not found at {dataset_path}\")\n",
    "\n",
    "sys.argv += [\n",
    "    \"--data_dir\", dataset_path,\n",
    "    \"--epochs\", \"10\",\n",
    "    \"--batch_size\", \"8\",\n",
    "    \"--lr\", \"5e-4\",\n",
    "    \"--img_size\", \"512\",\n",
    "    \"--optimizer\", \"adamw\",\n",
    "    \"--num_workers\", \"4\",\n",
    "    \"--save_dir\", \"runs\",\n",
    "    \"--loss\", \"focal+dice\",  # ✅ matches parser\n",
    "]\n",
    "\n",
    "print(\"Launching with:\", sys.argv[1:])\n",
    "main()\n"
   ]
  },
  {
   "cell_type": "markdown",
   "id": "e957d932-f0b5-4d9a-9ea8-13485faf7b2b",
   "metadata": {},
   "source": [
    "2  EfficientNet-B0"
   ]
  },
  {
   "cell_type": "code",
   "execution_count": 1,
   "id": "ae6ef6cc-ecb2-4212-ac15-8861f49b99e8",
   "metadata": {},
   "outputs": [],
   "source": [
    "import argparse, copy, time, torch, os\n",
    "from pathlib import Path\n",
    "from torch import nn, optim\n",
    "from torch.optim.lr_scheduler import CosineAnnealingLR\n",
    "from torch.utils.data import DataLoader\n",
    "from torchvision import datasets, transforms\n",
    "from torchvision.models import efficientnet_b0, EfficientNet_B0_Weights\n",
    "from sklearn.metrics import classification_report, confusion_matrix\n",
    "\n",
    "\n",
    "DATA_ROOT = Path(r\"/Users/invoker/Downloads/Dataset\")    \n",
    "IMG_SIZE   = 224\n",
    "MEAN, STD  = [0.485,0.456,0.406], [0.229,0.224,0.225]\n",
    "BATCH      = 32\n",
    "NUM_WORKERS = 4     \n",
    "PIN_MEMORY  = False  # True on CUDA GPUs\n",
    "\n",
    "def get_loaders(batch=BATCH):\n",
    "    train_tfms = transforms.Compose([\n",
    "        transforms.RandomResizedCrop(IMG_SIZE,(0.8,1.0)),\n",
    "        transforms.RandomHorizontalFlip(),\n",
    "        transforms.RandomVerticalFlip(0.3),\n",
    "        transforms.RandomRotation(10),\n",
    "        transforms.ColorJitter(0.1,0.1,0.1,0.05),\n",
    "        transforms.ToTensor(), transforms.Normalize(MEAN,STD)])\n",
    "    eval_tfms  = transforms.Compose([\n",
    "        transforms.Resize(int(IMG_SIZE*1.14)), transforms.CenterCrop(IMG_SIZE),\n",
    "        transforms.ToTensor(), transforms.Normalize(MEAN,STD)])\n",
    "    train_ds = datasets.ImageFolder(DATA_ROOT/\"train\", train_tfms)\n",
    "    val_ds   = datasets.ImageFolder(DATA_ROOT/\"val\",   eval_tfms)\n",
    "    test_ds  = datasets.ImageFolder(DATA_ROOT/\"test\",  eval_tfms)\n",
    "    kw = dict(batch_size=batch, num_workers=NUM_WORKERS, pin_memory=PIN_MEMORY)\n",
    "    return (DataLoader(train_ds, shuffle=True,  **kw),\n",
    "            DataLoader(val_ds,   shuffle=False, **kw),\n",
    "            DataLoader(test_ds,  shuffle=False, **kw),\n",
    "            train_ds.classes)\n"
   ]
  },
  {
   "cell_type": "markdown",
   "id": "b7e6370c-09de-48a6-a837-84c9d3015082",
   "metadata": {},
   "source": [
    "model&train"
   ]
  },
  {
   "cell_type": "code",
   "execution_count": 2,
   "id": "fbe0db66-d0eb-40b8-9009-539e5be0a716",
   "metadata": {},
   "outputs": [
    {
     "name": "stdout",
     "output_type": "stream",
     "text": [
      "Ep 01/10 tr_acc=0.778 val_acc=0.872 (75.0s)\n",
      "Ep 02/10 tr_acc=0.875 val_acc=0.910 (73.4s)\n",
      "Ep 03/10 tr_acc=0.905 val_acc=0.910 (73.5s)\n",
      "Ep 04/10 tr_acc=0.915 val_acc=0.915 (73.6s)\n",
      "Ep 05/10 tr_acc=0.927 val_acc=0.914 (73.4s)\n",
      "Ep 06/10 tr_acc=0.937 val_acc=0.923 (73.5s)\n",
      "Ep 07/10 tr_acc=0.945 val_acc=0.921 (73.7s)\n",
      "Ep 08/10 tr_acc=0.950 val_acc=0.923 (73.3s)\n",
      "Ep 09/10 tr_acc=0.955 val_acc=0.925 (73.5s)\n",
      "Ep 10/10 tr_acc=0.956 val_acc=0.929 (71.5s)\n"
     ]
    },
    {
     "data": {
      "text/plain": [
       "<All keys matched successfully>"
      ]
     },
     "execution_count": 2,
     "metadata": {},
     "output_type": "execute_result"
    }
   ],
   "source": [
    "device = torch.device(\"cuda\" if torch.cuda.is_available()\n",
    "                      else \"mps\"  if torch.backends.mps.is_available()\n",
    "                      else \"cpu\")\n",
    "\n",
    "train_dl, val_dl, test_dl, classes = get_loaders()\n",
    "\n",
    "weights = EfficientNet_B0_Weights.IMAGENET1K_V1\n",
    "model = efficientnet_b0(weights=weights)\n",
    "model.classifier[1] = nn.Linear(model.classifier[1].in_features, len(classes))\n",
    "model.to(device)\n",
    "\n",
    "EPOCHS   = 10\n",
    "criterion = nn.CrossEntropyLoss()\n",
    "optimizer = optim.AdamW(model.parameters(), lr=1e-4, weight_decay=1e-4)\n",
    "scheduler = CosineAnnealingLR(optimizer, T_max=EPOCHS)\n",
    "\n",
    "history = {\"train_acc\":[], \"val_acc\":[], \"train_loss\":[], \"val_loss\":[]}\n",
    "best_w, best_acc = copy.deepcopy(model.state_dict()), 0.0\n",
    "\n",
    "for epoch in range(EPOCHS):\n",
    "    t0 = time.time(); model.train()\n",
    "    tr_loss = correct = total = 0\n",
    "    for x, y in train_dl:\n",
    "        x, y = x.to(device), y.to(device)\n",
    "        optimizer.zero_grad()\n",
    "        out = model(x); loss = criterion(out, y)\n",
    "        loss.backward(); optimizer.step()\n",
    "        tr_loss += loss.item()*x.size(0)\n",
    "        correct += out.argmax(1).eq(y).sum().item(); total += y.size(0)\n",
    "    tr_loss /= total; tr_acc = correct/total\n",
    "\n",
    "    # validation\n",
    "    model.eval(); val_loss = correct = total = 0\n",
    "    with torch.no_grad():\n",
    "        for x, y in val_dl:\n",
    "            x, y = x.to(device), y.to(device)\n",
    "            out = model(x); val_loss += criterion(out, y).item()*x.size(0)\n",
    "            correct += out.argmax(1).eq(y).sum().item(); total += y.size(0)\n",
    "    val_loss /= total; val_acc = correct/total\n",
    "    scheduler.step()\n",
    "\n",
    "    history[\"train_acc\"].append(tr_acc); history[\"val_acc\"].append(val_acc)\n",
    "    history[\"train_loss\"].append(tr_loss); history[\"val_loss\"].append(val_loss)\n",
    "\n",
    "    if val_acc > best_acc:\n",
    "        best_acc, best_w = val_acc, copy.deepcopy(model.state_dict())\n",
    "\n",
    "    print(f\"Ep {epoch+1:02}/{EPOCHS} \"\n",
    "          f\"tr_acc={tr_acc:.3f} val_acc={val_acc:.3f} \"\n",
    "          f\"({time.time()-t0:.1f}s)\")\n",
    "\n",
    "model.load_state_dict(best_w)\n"
   ]
  },
  {
   "cell_type": "markdown",
   "id": "c88efdca-ea2e-4a2d-9f16-ca5f1d9a7a3e",
   "metadata": {},
   "source": [
    "Confusion matrix and class accuracy "
   ]
  },
  {
   "cell_type": "code",
   "execution_count": 3,
   "id": "a1da3979-b839-4257-b760-8317d378e097",
   "metadata": {},
   "outputs": [
    {
     "name": "stdout",
     "output_type": "stream",
     "text": [
      "Confusion matrix:\n",
      "[[224   4   0   1]\n",
      " [ 10  26   7   0]\n",
      " [  2   7 163  10]\n",
      " [  1   0   5  79]]\n",
      "Adenocarcinoma :  97.8%\n",
      "High-grade IN  :  60.5%\n",
      "Low-grade IN   :  89.6%\n",
      "Polyp          :  92.9%\n"
     ]
    }
   ],
   "source": [
    "y_true, y_pred = [], []\n",
    "model.eval()\n",
    "with torch.no_grad():\n",
    "    for x, y in test_dl:\n",
    "        logits = model(x.to(device))\n",
    "        y_true.extend(y.numpy())\n",
    "        y_pred.extend(logits.argmax(1).cpu().numpy())\n",
    "\n",
    "cm = confusion_matrix(y_true, y_pred)\n",
    "print(\"Confusion matrix:\")\n",
    "print(cm)\n",
    "\n",
    "acc_per_class = cm.diagonal() / cm.sum(axis=1)\n",
    "for cls, acc in zip(classes, acc_per_class):\n",
    "    print(f\"{cls:<15s}: {acc*100:5.1f}%\")\n"
   ]
  },
  {
   "cell_type": "code",
   "execution_count": 4,
   "id": "a6df3265-c415-4ad1-a687-c2a44172de70",
   "metadata": {},
   "outputs": [
    {
     "data": {
      "image/png": "[encoded data removed]",
      "text/plain": [
       "<Figure size 600x400 with 1 Axes>"
      ]
     },
     "metadata": {},
     "output_type": "display_data"
    }
   ],
   "source": [
    "import matplotlib.pyplot as plt\n",
    "\n",
    "plt.figure(figsize=(6,4))\n",
    "plt.plot(history['val_acc'],       label='EffNet-B0')\n",
    "plt.xlabel('Epoch'); plt.ylabel('Val Accuracy'); plt.legend(); plt.grid(True)\n",
    "plt.title('Validation Accuracy – Model Comparison')\n",
    "plt.show()\n"
   ]
  },
  {
   "cell_type": "code",
   "execution_count": null,
   "id": "9d3e5174-3edb-4cad-9796-4d0734996b33",
   "metadata": {},
   "outputs": [],
   "source": []
  }
 ],
 "metadata": {
  "kernelspec": {
   "display_name": "Python [conda env:base] *",
   "language": "python",
   "name": "conda-base-py"
  },
  "language_info": {
   "codemirror_mode": {
    "name": "ipython",
    "version": 3
   },
   "file_extension": ".py",
   "mimetype": "text/x-python",
   "name": "python",
   "nbconvert_exporter": "python",
   "pygments_lexer": "ipython3",
   "version": "3.12.7"
  }
 },
 "nbformat": 4,
 "nbformat_minor": 5
}
